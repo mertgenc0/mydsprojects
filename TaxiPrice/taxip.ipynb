{
 "cells": [
  {
   "cell_type": "code",
   "execution_count": 1,
   "id": "initial_id",
   "metadata": {
    "collapsed": true,
    "ExecuteTime": {
     "end_time": "2025-01-01T14:40:29.338282Z",
     "start_time": "2025-01-01T14:40:28.875928Z"
    }
   },
   "outputs": [
    {
     "name": "stdout",
     "output_type": "stream",
     "text": [
      "Warning: Looks like you're using an outdated `kagglehub` version, please consider updating (latest version: 0.3.6)\n",
      "Path to dataset files: /Users/mertgenc/.cache/kagglehub/datasets/denkuznetz/taxi-price-prediction/versions/1\n"
     ]
    }
   ],
   "source": [
    "import kagglehub\n",
    "\n",
    "# Download latest version\n",
    "path = kagglehub.dataset_download(\"denkuznetz/taxi-price-prediction\")\n",
    "\n",
    "print(\"Path to dataset files:\", path)"
   ]
  },
  {
   "cell_type": "code",
   "execution_count": 2,
   "outputs": [],
   "source": [
    "import pandas as pd\n",
    "import numpy as np\n",
    "import matplotlib as plt\n",
    "import seaborn as sns"
   ],
   "metadata": {
    "collapsed": false,
    "ExecuteTime": {
     "end_time": "2025-01-07T11:40:26.023648Z",
     "start_time": "2025-01-07T11:40:26.017584Z"
    }
   },
   "id": "a963ac03ab0bdec4"
  },
  {
   "cell_type": "markdown",
   "source": [
    "### Dataset Preprocessing"
   ],
   "metadata": {
    "collapsed": false
   },
   "id": "725c39a51ca03294"
  },
  {
   "cell_type": "code",
   "execution_count": 3,
   "outputs": [
    {
     "data": {
      "text/plain": "   Trip_Distance_km Time_of_Day Day_of_Week  Passenger_Count  \\\n0             19.35     Morning     Weekday              3.0   \n1             47.59   Afternoon     Weekday              1.0   \n2             36.87     Evening     Weekend              1.0   \n3             30.33     Evening     Weekday              4.0   \n4               NaN     Evening     Weekday              3.0   \n\n  Traffic_Conditions Weather  Base_Fare  Per_Km_Rate  Per_Minute_Rate  \\\n0                Low   Clear       3.56         0.80             0.32   \n1               High   Clear        NaN         0.62             0.43   \n2               High   Clear       2.70         1.21             0.15   \n3                Low     NaN       3.48         0.51             0.15   \n4               High   Clear       2.93         0.63             0.32   \n\n   Trip_Duration_Minutes  Trip_Price  \n0                  53.82     36.2624  \n1                  40.57         NaN  \n2                  37.27     52.9032  \n3                 116.81     36.4698  \n4                  22.64     15.6180  ",
      "text/html": "<div>\n<style scoped>\n    .dataframe tbody tr th:only-of-type {\n        vertical-align: middle;\n    }\n\n    .dataframe tbody tr th {\n        vertical-align: top;\n    }\n\n    .dataframe thead th {\n        text-align: right;\n    }\n</style>\n<table border=\"1\" class=\"dataframe\">\n  <thead>\n    <tr style=\"text-align: right;\">\n      <th></th>\n      <th>Trip_Distance_km</th>\n      <th>Time_of_Day</th>\n      <th>Day_of_Week</th>\n      <th>Passenger_Count</th>\n      <th>Traffic_Conditions</th>\n      <th>Weather</th>\n      <th>Base_Fare</th>\n      <th>Per_Km_Rate</th>\n      <th>Per_Minute_Rate</th>\n      <th>Trip_Duration_Minutes</th>\n      <th>Trip_Price</th>\n    </tr>\n  </thead>\n  <tbody>\n    <tr>\n      <th>0</th>\n      <td>19.35</td>\n      <td>Morning</td>\n      <td>Weekday</td>\n      <td>3.0</td>\n      <td>Low</td>\n      <td>Clear</td>\n      <td>3.56</td>\n      <td>0.80</td>\n      <td>0.32</td>\n      <td>53.82</td>\n      <td>36.2624</td>\n    </tr>\n    <tr>\n      <th>1</th>\n      <td>47.59</td>\n      <td>Afternoon</td>\n      <td>Weekday</td>\n      <td>1.0</td>\n      <td>High</td>\n      <td>Clear</td>\n      <td>NaN</td>\n      <td>0.62</td>\n      <td>0.43</td>\n      <td>40.57</td>\n      <td>NaN</td>\n    </tr>\n    <tr>\n      <th>2</th>\n      <td>36.87</td>\n      <td>Evening</td>\n      <td>Weekend</td>\n      <td>1.0</td>\n      <td>High</td>\n      <td>Clear</td>\n      <td>2.70</td>\n      <td>1.21</td>\n      <td>0.15</td>\n      <td>37.27</td>\n      <td>52.9032</td>\n    </tr>\n    <tr>\n      <th>3</th>\n      <td>30.33</td>\n      <td>Evening</td>\n      <td>Weekday</td>\n      <td>4.0</td>\n      <td>Low</td>\n      <td>NaN</td>\n      <td>3.48</td>\n      <td>0.51</td>\n      <td>0.15</td>\n      <td>116.81</td>\n      <td>36.4698</td>\n    </tr>\n    <tr>\n      <th>4</th>\n      <td>NaN</td>\n      <td>Evening</td>\n      <td>Weekday</td>\n      <td>3.0</td>\n      <td>High</td>\n      <td>Clear</td>\n      <td>2.93</td>\n      <td>0.63</td>\n      <td>0.32</td>\n      <td>22.64</td>\n      <td>15.6180</td>\n    </tr>\n  </tbody>\n</table>\n</div>"
     },
     "execution_count": 3,
     "metadata": {},
     "output_type": "execute_result"
    }
   ],
   "source": [
    "dataset = pd.read_csv('taxi_trip_pricing.csv')\n",
    "dataset.head()"
   ],
   "metadata": {
    "collapsed": false,
    "ExecuteTime": {
     "end_time": "2025-01-07T11:40:27.132521Z",
     "start_time": "2025-01-07T11:40:27.121531Z"
    }
   },
   "id": "968d52c1df1a71f0"
  },
  {
   "cell_type": "code",
   "execution_count": 4,
   "outputs": [
    {
     "data": {
      "text/plain": "Trip_Distance_km         50\nTime_of_Day              50\nDay_of_Week              50\nPassenger_Count          50\nTraffic_Conditions       50\nWeather                  50\nBase_Fare                50\nPer_Km_Rate              50\nPer_Minute_Rate          50\nTrip_Duration_Minutes    50\nTrip_Price               49\ndtype: int64"
     },
     "execution_count": 4,
     "metadata": {},
     "output_type": "execute_result"
    }
   ],
   "source": [
    "dataset.isnull().sum()"
   ],
   "metadata": {
    "collapsed": false,
    "ExecuteTime": {
     "end_time": "2025-01-07T11:41:07.184382Z",
     "start_time": "2025-01-07T11:41:07.171696Z"
    }
   },
   "id": "6984f24c2656b06f"
  },
  {
   "cell_type": "code",
   "execution_count": 7,
   "outputs": [
    {
     "name": "stdout",
     "output_type": "stream",
     "text": [
      "<class 'pandas.core.frame.DataFrame'>\n",
      "RangeIndex: 1000 entries, 0 to 999\n",
      "Data columns (total 11 columns):\n",
      " #   Column                 Non-Null Count  Dtype  \n",
      "---  ------                 --------------  -----  \n",
      " 0   Trip_Distance_km       950 non-null    float64\n",
      " 1   Time_of_Day            950 non-null    object \n",
      " 2   Day_of_Week            950 non-null    object \n",
      " 3   Passenger_Count        950 non-null    float64\n",
      " 4   Traffic_Conditions     950 non-null    object \n",
      " 5   Weather                950 non-null    object \n",
      " 6   Base_Fare              950 non-null    float64\n",
      " 7   Per_Km_Rate            950 non-null    float64\n",
      " 8   Per_Minute_Rate        950 non-null    float64\n",
      " 9   Trip_Duration_Minutes  950 non-null    float64\n",
      " 10  Trip_Price             951 non-null    float64\n",
      "dtypes: float64(7), object(4)\n",
      "memory usage: 86.1+ KB\n"
     ]
    }
   ],
   "source": [
    "dataset.info()"
   ],
   "metadata": {
    "collapsed": false,
    "ExecuteTime": {
     "end_time": "2025-01-07T11:53:42.931046Z",
     "start_time": "2025-01-07T11:53:42.926199Z"
    }
   },
   "id": "45d25e78bcca4694"
  },
  {
   "cell_type": "code",
   "execution_count": 5,
   "outputs": [
    {
     "data": {
      "text/plain": "       Trip_Distance_km  Passenger_Count   Base_Fare  Per_Km_Rate  \\\ncount        950.000000       950.000000  950.000000   950.000000   \nmean          27.070547         2.476842    3.502989     1.233316   \nstd           19.905300         1.102249    0.870162     0.429816   \nmin            1.230000         1.000000    2.010000     0.500000   \n25%           12.632500         1.250000    2.730000     0.860000   \n50%           25.830000         2.000000    3.520000     1.220000   \n75%           38.405000         3.000000    4.260000     1.610000   \nmax          146.067047         4.000000    5.000000     2.000000   \n\n       Per_Minute_Rate  Trip_Duration_Minutes  Trip_Price  \ncount       950.000000             950.000000  951.000000  \nmean          0.292916              62.118116   56.874773  \nstd           0.115592              32.154406   40.469791  \nmin           0.100000               5.010000    6.126900  \n25%           0.190000              35.882500   33.742650  \n50%           0.290000              61.860000   50.074500  \n75%           0.390000              89.055000   69.099350  \nmax           0.500000             119.840000  332.043689  ",
      "text/html": "<div>\n<style scoped>\n    .dataframe tbody tr th:only-of-type {\n        vertical-align: middle;\n    }\n\n    .dataframe tbody tr th {\n        vertical-align: top;\n    }\n\n    .dataframe thead th {\n        text-align: right;\n    }\n</style>\n<table border=\"1\" class=\"dataframe\">\n  <thead>\n    <tr style=\"text-align: right;\">\n      <th></th>\n      <th>Trip_Distance_km</th>\n      <th>Passenger_Count</th>\n      <th>Base_Fare</th>\n      <th>Per_Km_Rate</th>\n      <th>Per_Minute_Rate</th>\n      <th>Trip_Duration_Minutes</th>\n      <th>Trip_Price</th>\n    </tr>\n  </thead>\n  <tbody>\n    <tr>\n      <th>count</th>\n      <td>950.000000</td>\n      <td>950.000000</td>\n      <td>950.000000</td>\n      <td>950.000000</td>\n      <td>950.000000</td>\n      <td>950.000000</td>\n      <td>951.000000</td>\n    </tr>\n    <tr>\n      <th>mean</th>\n      <td>27.070547</td>\n      <td>2.476842</td>\n      <td>3.502989</td>\n      <td>1.233316</td>\n      <td>0.292916</td>\n      <td>62.118116</td>\n      <td>56.874773</td>\n    </tr>\n    <tr>\n      <th>std</th>\n      <td>19.905300</td>\n      <td>1.102249</td>\n      <td>0.870162</td>\n      <td>0.429816</td>\n      <td>0.115592</td>\n      <td>32.154406</td>\n      <td>40.469791</td>\n    </tr>\n    <tr>\n      <th>min</th>\n      <td>1.230000</td>\n      <td>1.000000</td>\n      <td>2.010000</td>\n      <td>0.500000</td>\n      <td>0.100000</td>\n      <td>5.010000</td>\n      <td>6.126900</td>\n    </tr>\n    <tr>\n      <th>25%</th>\n      <td>12.632500</td>\n      <td>1.250000</td>\n      <td>2.730000</td>\n      <td>0.860000</td>\n      <td>0.190000</td>\n      <td>35.882500</td>\n      <td>33.742650</td>\n    </tr>\n    <tr>\n      <th>50%</th>\n      <td>25.830000</td>\n      <td>2.000000</td>\n      <td>3.520000</td>\n      <td>1.220000</td>\n      <td>0.290000</td>\n      <td>61.860000</td>\n      <td>50.074500</td>\n    </tr>\n    <tr>\n      <th>75%</th>\n      <td>38.405000</td>\n      <td>3.000000</td>\n      <td>4.260000</td>\n      <td>1.610000</td>\n      <td>0.390000</td>\n      <td>89.055000</td>\n      <td>69.099350</td>\n    </tr>\n    <tr>\n      <th>max</th>\n      <td>146.067047</td>\n      <td>4.000000</td>\n      <td>5.000000</td>\n      <td>2.000000</td>\n      <td>0.500000</td>\n      <td>119.840000</td>\n      <td>332.043689</td>\n    </tr>\n  </tbody>\n</table>\n</div>"
     },
     "execution_count": 5,
     "metadata": {},
     "output_type": "execute_result"
    }
   ],
   "source": [
    "dataset.describe()"
   ],
   "metadata": {
    "collapsed": false,
    "ExecuteTime": {
     "end_time": "2025-01-07T11:42:51.963164Z",
     "start_time": "2025-01-07T11:42:51.944410Z"
    }
   },
   "id": "dec6f3920498882f"
  },
  {
   "cell_type": "code",
   "execution_count": 11,
   "outputs": [
    {
     "name": "stdout",
     "output_type": "stream",
     "text": [
      "['Morning' 'Afternoon' 'Evening' 'Night' nan] \n",
      "\n",
      "['Weekday' 'Weekend' nan] \n",
      "\n",
      "['Low' 'High' 'Medium' nan] \n",
      "\n",
      "['Clear' nan 'Rain' 'Snow'] \n"
     ]
    }
   ],
   "source": [
    "#dataset_filled = dataset.apply(lambda col: col.fillna(col.mean()))\n",
    "time_of_day = dataset['Time_of_Day'].unique()\n",
    "day_of_week =dataset['Day_of_Week'].unique()\n",
    "trafic_condition= dataset['Traffic_Conditions'].unique()\n",
    "weather = dataset['Weather'].unique()\n",
    "\n",
    "print(f'{time_of_day} \\n')\n",
    "print(f'{day_of_week} \\n')\n",
    "print(f'{trafic_condition} \\n')\n",
    "print(f'{weather} \\n')\n"
   ],
   "metadata": {
    "collapsed": false,
    "ExecuteTime": {
     "end_time": "2025-01-07T12:03:11.151290Z",
     "start_time": "2025-01-07T12:03:11.143177Z"
    }
   },
   "id": "3879f3e9d3464ac2"
  },
  {
   "cell_type": "code",
   "execution_count": 12,
   "outputs": [],
   "source": [],
   "metadata": {
    "collapsed": false,
    "ExecuteTime": {
     "end_time": "2025-01-07T12:07:00.165592Z",
     "start_time": "2025-01-07T12:07:00.157867Z"
    }
   },
   "id": "352c3fb87f16a172"
  },
  {
   "cell_type": "code",
   "execution_count": null,
   "outputs": [],
   "source": [],
   "metadata": {
    "collapsed": false
   },
   "id": "382c08eb41004994"
  }
 ],
 "metadata": {
  "kernelspec": {
   "display_name": "Python 3",
   "language": "python",
   "name": "python3"
  },
  "language_info": {
   "codemirror_mode": {
    "name": "ipython",
    "version": 2
   },
   "file_extension": ".py",
   "mimetype": "text/x-python",
   "name": "python",
   "nbconvert_exporter": "python",
   "pygments_lexer": "ipython2",
   "version": "2.7.6"
  }
 },
 "nbformat": 4,
 "nbformat_minor": 5
}
