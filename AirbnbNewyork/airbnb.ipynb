{
 "cells": [
  {
   "cell_type": "code",
   "execution_count": 2,
   "id": "initial_id",
   "metadata": {
    "collapsed": true,
    "ExecuteTime": {
     "end_time": "2024-11-05T20:29:23.292688Z",
     "start_time": "2024-11-05T20:29:23.289878Z"
    }
   },
   "outputs": [],
   "source": [
    "import pandas as pd\n",
    "import numpy as np\n",
    "import matplotlib.pyplot as plt\n",
    "import seaborn as sns\n"
   ]
  },
  {
   "cell_type": "markdown",
   "source": [
    "### Data Preporcessing"
   ],
   "metadata": {
    "collapsed": false
   },
   "id": "11402aacc96795b3"
  },
  {
   "cell_type": "code",
   "execution_count": 3,
   "outputs": [
    {
     "data": {
      "text/plain": "        id                           listing_url       scrape_id last_scraped  \\\n0  2992450  https://www.airbnb.com/rooms/2992450  20240905032005   2024-09-05   \n1  3820211  https://www.airbnb.com/rooms/3820211  20240905032005   2024-09-05   \n2  5651579  https://www.airbnb.com/rooms/5651579  20240905032005   2024-09-05   \n3  6623339  https://www.airbnb.com/rooms/6623339  20240905032005   2024-09-05   \n4  8035768  https://www.airbnb.com/rooms/8035768  20240905032005   2024-09-05   \n\n        source                                              name  \\\n0  city scrape                        Luxury 2 bedroom apartment   \n1  city scrape         Restored Precinct in Center Sq. w/Parking   \n2  city scrape        Large studio apt  by Capital Center & ESP@   \n3  city scrape  Center Sq. Loft in Converted Precinct w/ Parking   \n4  city scrape            Entire Beautiful French Victorian 1884   \n\n                                         description  \\\n0  The apartment is located in a quiet neighborho...   \n1  Cozy, cool little 1BR Apt in the heart Albany'...   \n2  Spacious studio with hardwood floors, fully eq...   \n3  Large renovated 1 bedroom apartment in convert...   \n4  Stunningly renovated French Victorian original...   \n\n                               neighborhood_overview  \\\n0                                                NaN   \n1  Great restaurants, architecture, walking, peop...   \n2  The neighborhood is very eclectic. We have a v...   \n3  Located in Albany's finest urban neighborhood,...   \n4  There is a Barbershop with 1900' barber chairs...   \n\n                                         picture_url   host_id  ...  \\\n0  https://a0.muscache.com/pictures/44627226/0e72...   4621559  ...   \n1  https://a0.muscache.com/pictures/prohost-api/H...  19648678  ...   \n2  https://a0.muscache.com/pictures/b3fc42f3-6e5e...  29288920  ...   \n3  https://a0.muscache.com/pictures/prohost-api/H...  19648678  ...   \n4  https://a0.muscache.com/pictures/103429331/a0a...  42430824  ...   \n\n  review_scores_communication review_scores_location review_scores_value  \\\n0                        4.56                   3.22                3.67   \n1                        4.81                   4.82                4.78   \n2                        4.87                   4.76                4.63   \n3                        4.70                   4.80                4.72   \n4                        4.80                   4.74                4.75   \n\n  license instant_bookable calculated_host_listings_count  \\\n0     NaN                f                              1   \n1     NaN                f                              4   \n2     NaN                f                              2   \n3     NaN                f                              4   \n4     NaN                f                              2   \n\n  calculated_host_listings_count_entire_homes  \\\n0                                           1   \n1                                           4   \n2                                           1   \n3                                           4   \n4                                           1   \n\n  calculated_host_listings_count_private_rooms  \\\n0                                            0   \n1                                            0   \n2                                            1   \n3                                            0   \n4                                            1   \n\n  calculated_host_listings_count_shared_rooms reviews_per_month  \n0                                           0              0.07  \n1                                           0              2.49  \n2                                           0              3.22  \n3                                           0              2.91  \n4                                           0              0.51  \n\n[5 rows x 75 columns]",
      "text/html": "<div>\n<style scoped>\n    .dataframe tbody tr th:only-of-type {\n        vertical-align: middle;\n    }\n\n    .dataframe tbody tr th {\n        vertical-align: top;\n    }\n\n    .dataframe thead th {\n        text-align: right;\n    }\n</style>\n<table border=\"1\" class=\"dataframe\">\n  <thead>\n    <tr style=\"text-align: right;\">\n      <th></th>\n      <th>id</th>\n      <th>listing_url</th>\n      <th>scrape_id</th>\n      <th>last_scraped</th>\n      <th>source</th>\n      <th>name</th>\n      <th>description</th>\n      <th>neighborhood_overview</th>\n      <th>picture_url</th>\n      <th>host_id</th>\n      <th>...</th>\n      <th>review_scores_communication</th>\n      <th>review_scores_location</th>\n      <th>review_scores_value</th>\n      <th>license</th>\n      <th>instant_bookable</th>\n      <th>calculated_host_listings_count</th>\n      <th>calculated_host_listings_count_entire_homes</th>\n      <th>calculated_host_listings_count_private_rooms</th>\n      <th>calculated_host_listings_count_shared_rooms</th>\n      <th>reviews_per_month</th>\n    </tr>\n  </thead>\n  <tbody>\n    <tr>\n      <th>0</th>\n      <td>2992450</td>\n      <td>https://www.airbnb.com/rooms/2992450</td>\n      <td>20240905032005</td>\n      <td>2024-09-05</td>\n      <td>city scrape</td>\n      <td>Luxury 2 bedroom apartment</td>\n      <td>The apartment is located in a quiet neighborho...</td>\n      <td>NaN</td>\n      <td>https://a0.muscache.com/pictures/44627226/0e72...</td>\n      <td>4621559</td>\n      <td>...</td>\n      <td>4.56</td>\n      <td>3.22</td>\n      <td>3.67</td>\n      <td>NaN</td>\n      <td>f</td>\n      <td>1</td>\n      <td>1</td>\n      <td>0</td>\n      <td>0</td>\n      <td>0.07</td>\n    </tr>\n    <tr>\n      <th>1</th>\n      <td>3820211</td>\n      <td>https://www.airbnb.com/rooms/3820211</td>\n      <td>20240905032005</td>\n      <td>2024-09-05</td>\n      <td>city scrape</td>\n      <td>Restored Precinct in Center Sq. w/Parking</td>\n      <td>Cozy, cool little 1BR Apt in the heart Albany'...</td>\n      <td>Great restaurants, architecture, walking, peop...</td>\n      <td>https://a0.muscache.com/pictures/prohost-api/H...</td>\n      <td>19648678</td>\n      <td>...</td>\n      <td>4.81</td>\n      <td>4.82</td>\n      <td>4.78</td>\n      <td>NaN</td>\n      <td>f</td>\n      <td>4</td>\n      <td>4</td>\n      <td>0</td>\n      <td>0</td>\n      <td>2.49</td>\n    </tr>\n    <tr>\n      <th>2</th>\n      <td>5651579</td>\n      <td>https://www.airbnb.com/rooms/5651579</td>\n      <td>20240905032005</td>\n      <td>2024-09-05</td>\n      <td>city scrape</td>\n      <td>Large studio apt  by Capital Center &amp; ESP@</td>\n      <td>Spacious studio with hardwood floors, fully eq...</td>\n      <td>The neighborhood is very eclectic. We have a v...</td>\n      <td>https://a0.muscache.com/pictures/b3fc42f3-6e5e...</td>\n      <td>29288920</td>\n      <td>...</td>\n      <td>4.87</td>\n      <td>4.76</td>\n      <td>4.63</td>\n      <td>NaN</td>\n      <td>f</td>\n      <td>2</td>\n      <td>1</td>\n      <td>1</td>\n      <td>0</td>\n      <td>3.22</td>\n    </tr>\n    <tr>\n      <th>3</th>\n      <td>6623339</td>\n      <td>https://www.airbnb.com/rooms/6623339</td>\n      <td>20240905032005</td>\n      <td>2024-09-05</td>\n      <td>city scrape</td>\n      <td>Center Sq. Loft in Converted Precinct w/ Parking</td>\n      <td>Large renovated 1 bedroom apartment in convert...</td>\n      <td>Located in Albany's finest urban neighborhood,...</td>\n      <td>https://a0.muscache.com/pictures/prohost-api/H...</td>\n      <td>19648678</td>\n      <td>...</td>\n      <td>4.70</td>\n      <td>4.80</td>\n      <td>4.72</td>\n      <td>NaN</td>\n      <td>f</td>\n      <td>4</td>\n      <td>4</td>\n      <td>0</td>\n      <td>0</td>\n      <td>2.91</td>\n    </tr>\n    <tr>\n      <th>4</th>\n      <td>8035768</td>\n      <td>https://www.airbnb.com/rooms/8035768</td>\n      <td>20240905032005</td>\n      <td>2024-09-05</td>\n      <td>city scrape</td>\n      <td>Entire Beautiful French Victorian 1884</td>\n      <td>Stunningly renovated French Victorian original...</td>\n      <td>There is a Barbershop with 1900' barber chairs...</td>\n      <td>https://a0.muscache.com/pictures/103429331/a0a...</td>\n      <td>42430824</td>\n      <td>...</td>\n      <td>4.80</td>\n      <td>4.74</td>\n      <td>4.75</td>\n      <td>NaN</td>\n      <td>f</td>\n      <td>2</td>\n      <td>1</td>\n      <td>1</td>\n      <td>0</td>\n      <td>0.51</td>\n    </tr>\n  </tbody>\n</table>\n<p>5 rows × 75 columns</p>\n</div>"
     },
     "execution_count": 3,
     "metadata": {},
     "output_type": "execute_result"
    }
   ],
   "source": [
    "lisdata = pd.read_csv('Airbnbcsv/listings.csv')\n",
    "lisdata.head()"
   ],
   "metadata": {
    "collapsed": false,
    "ExecuteTime": {
     "end_time": "2024-11-05T20:29:25.044896Z",
     "start_time": "2024-11-05T20:29:25.018575Z"
    }
   },
   "id": "a738ba3984107747"
  },
  {
   "cell_type": "code",
   "execution_count": 4,
   "outputs": [
    {
     "data": {
      "text/plain": "   listing_id        date available   price  adjusted_price  minimum_nights  \\\n0     2992450  2024-09-05         f  $70.00             NaN              28   \n1     2992450  2024-09-06         f  $70.00             NaN              28   \n2     2992450  2024-09-07         f  $70.00             NaN              28   \n3     2992450  2024-09-08         f  $70.00             NaN              28   \n4     2992450  2024-09-09         f  $70.00             NaN              28   \n\n   maximum_nights  \n0            1125  \n1            1125  \n2            1125  \n3            1125  \n4            1125  ",
      "text/html": "<div>\n<style scoped>\n    .dataframe tbody tr th:only-of-type {\n        vertical-align: middle;\n    }\n\n    .dataframe tbody tr th {\n        vertical-align: top;\n    }\n\n    .dataframe thead th {\n        text-align: right;\n    }\n</style>\n<table border=\"1\" class=\"dataframe\">\n  <thead>\n    <tr style=\"text-align: right;\">\n      <th></th>\n      <th>listing_id</th>\n      <th>date</th>\n      <th>available</th>\n      <th>price</th>\n      <th>adjusted_price</th>\n      <th>minimum_nights</th>\n      <th>maximum_nights</th>\n    </tr>\n  </thead>\n  <tbody>\n    <tr>\n      <th>0</th>\n      <td>2992450</td>\n      <td>2024-09-05</td>\n      <td>f</td>\n      <td>$70.00</td>\n      <td>NaN</td>\n      <td>28</td>\n      <td>1125</td>\n    </tr>\n    <tr>\n      <th>1</th>\n      <td>2992450</td>\n      <td>2024-09-06</td>\n      <td>f</td>\n      <td>$70.00</td>\n      <td>NaN</td>\n      <td>28</td>\n      <td>1125</td>\n    </tr>\n    <tr>\n      <th>2</th>\n      <td>2992450</td>\n      <td>2024-09-07</td>\n      <td>f</td>\n      <td>$70.00</td>\n      <td>NaN</td>\n      <td>28</td>\n      <td>1125</td>\n    </tr>\n    <tr>\n      <th>3</th>\n      <td>2992450</td>\n      <td>2024-09-08</td>\n      <td>f</td>\n      <td>$70.00</td>\n      <td>NaN</td>\n      <td>28</td>\n      <td>1125</td>\n    </tr>\n    <tr>\n      <th>4</th>\n      <td>2992450</td>\n      <td>2024-09-09</td>\n      <td>f</td>\n      <td>$70.00</td>\n      <td>NaN</td>\n      <td>28</td>\n      <td>1125</td>\n    </tr>\n  </tbody>\n</table>\n</div>"
     },
     "execution_count": 4,
     "metadata": {},
     "output_type": "execute_result"
    }
   ],
   "source": [
    "calendata = pd.read_csv('Airbnbcsv/calendar.csv')\n",
    "calendata.head()"
   ],
   "metadata": {
    "collapsed": false,
    "ExecuteTime": {
     "end_time": "2024-11-05T20:30:11.627725Z",
     "start_time": "2024-11-05T20:30:11.563150Z"
    }
   },
   "id": "51624ebb687f0234"
  },
  {
   "cell_type": "code",
   "execution_count": 5,
   "outputs": [
    {
     "data": {
      "text/plain": "   listing_id        date available price_x  adjusted_price  minimum_nights_x  \\\n0     2992450  2024-09-05         f  $70.00             NaN                28   \n1     2992450  2024-09-06         f  $70.00             NaN                28   \n2     2992450  2024-09-07         f  $70.00             NaN                28   \n3     2992450  2024-09-08         f  $70.00             NaN                28   \n4     2992450  2024-09-09         f  $70.00             NaN                28   \n\n   maximum_nights_x       id                           listing_url  \\\n0              1125  2992450  https://www.airbnb.com/rooms/2992450   \n1              1125  2992450  https://www.airbnb.com/rooms/2992450   \n2              1125  2992450  https://www.airbnb.com/rooms/2992450   \n3              1125  2992450  https://www.airbnb.com/rooms/2992450   \n4              1125  2992450  https://www.airbnb.com/rooms/2992450   \n\n        scrape_id  ... review_scores_communication review_scores_location  \\\n0  20240905032005  ...                        4.56                   3.22   \n1  20240905032005  ...                        4.56                   3.22   \n2  20240905032005  ...                        4.56                   3.22   \n3  20240905032005  ...                        4.56                   3.22   \n4  20240905032005  ...                        4.56                   3.22   \n\n  review_scores_value license instant_bookable calculated_host_listings_count  \\\n0                3.67     NaN                f                              1   \n1                3.67     NaN                f                              1   \n2                3.67     NaN                f                              1   \n3                3.67     NaN                f                              1   \n4                3.67     NaN                f                              1   \n\n   calculated_host_listings_count_entire_homes  \\\n0                                            1   \n1                                            1   \n2                                            1   \n3                                            1   \n4                                            1   \n\n  calculated_host_listings_count_private_rooms  \\\n0                                            0   \n1                                            0   \n2                                            0   \n3                                            0   \n4                                            0   \n\n  calculated_host_listings_count_shared_rooms reviews_per_month  \n0                                           0              0.07  \n1                                           0              0.07  \n2                                           0              0.07  \n3                                           0              0.07  \n4                                           0              0.07  \n\n[5 rows x 82 columns]",
      "text/html": "<div>\n<style scoped>\n    .dataframe tbody tr th:only-of-type {\n        vertical-align: middle;\n    }\n\n    .dataframe tbody tr th {\n        vertical-align: top;\n    }\n\n    .dataframe thead th {\n        text-align: right;\n    }\n</style>\n<table border=\"1\" class=\"dataframe\">\n  <thead>\n    <tr style=\"text-align: right;\">\n      <th></th>\n      <th>listing_id</th>\n      <th>date</th>\n      <th>available</th>\n      <th>price_x</th>\n      <th>adjusted_price</th>\n      <th>minimum_nights_x</th>\n      <th>maximum_nights_x</th>\n      <th>id</th>\n      <th>listing_url</th>\n      <th>scrape_id</th>\n      <th>...</th>\n      <th>review_scores_communication</th>\n      <th>review_scores_location</th>\n      <th>review_scores_value</th>\n      <th>license</th>\n      <th>instant_bookable</th>\n      <th>calculated_host_listings_count</th>\n      <th>calculated_host_listings_count_entire_homes</th>\n      <th>calculated_host_listings_count_private_rooms</th>\n      <th>calculated_host_listings_count_shared_rooms</th>\n      <th>reviews_per_month</th>\n    </tr>\n  </thead>\n  <tbody>\n    <tr>\n      <th>0</th>\n      <td>2992450</td>\n      <td>2024-09-05</td>\n      <td>f</td>\n      <td>$70.00</td>\n      <td>NaN</td>\n      <td>28</td>\n      <td>1125</td>\n      <td>2992450</td>\n      <td>https://www.airbnb.com/rooms/2992450</td>\n      <td>20240905032005</td>\n      <td>...</td>\n      <td>4.56</td>\n      <td>3.22</td>\n      <td>3.67</td>\n      <td>NaN</td>\n      <td>f</td>\n      <td>1</td>\n      <td>1</td>\n      <td>0</td>\n      <td>0</td>\n      <td>0.07</td>\n    </tr>\n    <tr>\n      <th>1</th>\n      <td>2992450</td>\n      <td>2024-09-06</td>\n      <td>f</td>\n      <td>$70.00</td>\n      <td>NaN</td>\n      <td>28</td>\n      <td>1125</td>\n      <td>2992450</td>\n      <td>https://www.airbnb.com/rooms/2992450</td>\n      <td>20240905032005</td>\n      <td>...</td>\n      <td>4.56</td>\n      <td>3.22</td>\n      <td>3.67</td>\n      <td>NaN</td>\n      <td>f</td>\n      <td>1</td>\n      <td>1</td>\n      <td>0</td>\n      <td>0</td>\n      <td>0.07</td>\n    </tr>\n    <tr>\n      <th>2</th>\n      <td>2992450</td>\n      <td>2024-09-07</td>\n      <td>f</td>\n      <td>$70.00</td>\n      <td>NaN</td>\n      <td>28</td>\n      <td>1125</td>\n      <td>2992450</td>\n      <td>https://www.airbnb.com/rooms/2992450</td>\n      <td>20240905032005</td>\n      <td>...</td>\n      <td>4.56</td>\n      <td>3.22</td>\n      <td>3.67</td>\n      <td>NaN</td>\n      <td>f</td>\n      <td>1</td>\n      <td>1</td>\n      <td>0</td>\n      <td>0</td>\n      <td>0.07</td>\n    </tr>\n    <tr>\n      <th>3</th>\n      <td>2992450</td>\n      <td>2024-09-08</td>\n      <td>f</td>\n      <td>$70.00</td>\n      <td>NaN</td>\n      <td>28</td>\n      <td>1125</td>\n      <td>2992450</td>\n      <td>https://www.airbnb.com/rooms/2992450</td>\n      <td>20240905032005</td>\n      <td>...</td>\n      <td>4.56</td>\n      <td>3.22</td>\n      <td>3.67</td>\n      <td>NaN</td>\n      <td>f</td>\n      <td>1</td>\n      <td>1</td>\n      <td>0</td>\n      <td>0</td>\n      <td>0.07</td>\n    </tr>\n    <tr>\n      <th>4</th>\n      <td>2992450</td>\n      <td>2024-09-09</td>\n      <td>f</td>\n      <td>$70.00</td>\n      <td>NaN</td>\n      <td>28</td>\n      <td>1125</td>\n      <td>2992450</td>\n      <td>https://www.airbnb.com/rooms/2992450</td>\n      <td>20240905032005</td>\n      <td>...</td>\n      <td>4.56</td>\n      <td>3.22</td>\n      <td>3.67</td>\n      <td>NaN</td>\n      <td>f</td>\n      <td>1</td>\n      <td>1</td>\n      <td>0</td>\n      <td>0</td>\n      <td>0.07</td>\n    </tr>\n  </tbody>\n</table>\n<p>5 rows × 82 columns</p>\n</div>"
     },
     "execution_count": 5,
     "metadata": {},
     "output_type": "execute_result"
    }
   ],
   "source": [
    "mergedata = pd.merge(calendata, lisdata, left_on='listing_id', right_on='id', how='inner')\n",
    "mergedata.head()"
   ],
   "metadata": {
    "collapsed": false,
    "ExecuteTime": {
     "end_time": "2024-11-05T20:36:33.132188Z",
     "start_time": "2024-11-05T20:36:33.006659Z"
    }
   },
   "id": "7ba028cf3ca1b0dd"
  },
  {
   "cell_type": "code",
   "execution_count": 6,
   "outputs": [
    {
     "data": {
      "text/plain": "listing_id                                           0\ndate                                                 0\navailable                                            0\nprice_x                                              0\nadjusted_price                                  155490\n                                                 ...  \ncalculated_host_listings_count                       0\ncalculated_host_listings_count_entire_homes          0\ncalculated_host_listings_count_private_rooms         0\ncalculated_host_listings_count_shared_rooms          0\nreviews_per_month                                21900\nLength: 82, dtype: int64"
     },
     "execution_count": 6,
     "metadata": {},
     "output_type": "execute_result"
    }
   ],
   "source": [
    "mergedata.isnull().sum()"
   ],
   "metadata": {
    "collapsed": false,
    "ExecuteTime": {
     "end_time": "2024-11-05T20:37:21.009230Z",
     "start_time": "2024-11-05T20:37:20.883230Z"
    }
   },
   "id": "dd88bc3479997898"
  },
  {
   "cell_type": "code",
   "execution_count": 7,
   "outputs": [
    {
     "name": "stdout",
     "output_type": "stream",
     "text": [
      "<class 'pandas.core.frame.DataFrame'>\n",
      "RangeIndex: 155490 entries, 0 to 155489\n",
      "Data columns (total 82 columns):\n",
      " #   Column                                        Non-Null Count   Dtype  \n",
      "---  ------                                        --------------   -----  \n",
      " 0   listing_id                                    155490 non-null  int64  \n",
      " 1   date                                          155490 non-null  object \n",
      " 2   available                                     155490 non-null  object \n",
      " 3   price_x                                       155490 non-null  object \n",
      " 4   adjusted_price                                0 non-null       float64\n",
      " 5   minimum_nights_x                              155490 non-null  int64  \n",
      " 6   maximum_nights_x                              155490 non-null  int64  \n",
      " 7   id                                            155490 non-null  int64  \n",
      " 8   listing_url                                   155490 non-null  object \n",
      " 9   scrape_id                                     155490 non-null  int64  \n",
      " 10  last_scraped                                  155490 non-null  object \n",
      " 11  source                                        155490 non-null  object \n",
      " 12  name                                          155490 non-null  object \n",
      " 13  description                                   150745 non-null  object \n",
      " 14  neighborhood_overview                         83220 non-null   object \n",
      " 15  picture_url                                   155490 non-null  object \n",
      " 16  host_id                                       155490 non-null  int64  \n",
      " 17  host_url                                      155490 non-null  object \n",
      " 18  host_name                                     155490 non-null  object \n",
      " 19  host_since                                    155490 non-null  object \n",
      " 20  host_location                                 123370 non-null  object \n",
      " 21  host_about                                    83950 non-null   object \n",
      " 22  host_response_time                            148555 non-null  object \n",
      " 23  host_response_rate                            148555 non-null  object \n",
      " 24  host_acceptance_rate                          150380 non-null  object \n",
      " 25  host_is_superhost                             152935 non-null  object \n",
      " 26  host_thumbnail_url                            155490 non-null  object \n",
      " 27  host_picture_url                              155490 non-null  object \n",
      " 28  host_neighbourhood                            129210 non-null  object \n",
      " 29  host_listings_count                           155490 non-null  int64  \n",
      " 30  host_total_listings_count                     155490 non-null  int64  \n",
      " 31  host_verifications                            155490 non-null  object \n",
      " 32  host_has_profile_pic                          155490 non-null  object \n",
      " 33  host_identity_verified                        155490 non-null  object \n",
      " 34  neighbourhood                                 83220 non-null   object \n",
      " 35  neighbourhood_cleansed                        155490 non-null  object \n",
      " 36  neighbourhood_group_cleansed                  0 non-null       float64\n",
      " 37  latitude                                      155490 non-null  float64\n",
      " 38  longitude                                     155490 non-null  float64\n",
      " 39  property_type                                 155490 non-null  object \n",
      " 40  room_type                                     155490 non-null  object \n",
      " 41  accommodates                                  155490 non-null  int64  \n",
      " 42  bathrooms                                     146000 non-null  float64\n",
      " 43  bathrooms_text                                155490 non-null  object \n",
      " 44  bedrooms                                      153665 non-null  float64\n",
      " 45  beds                                          145270 non-null  float64\n",
      " 46  amenities                                     155490 non-null  object \n",
      " 47  price_y                                       146000 non-null  object \n",
      " 48  minimum_nights_y                              155490 non-null  int64  \n",
      " 49  maximum_nights_y                              155490 non-null  int64  \n",
      " 50  minimum_minimum_nights                        155490 non-null  int64  \n",
      " 51  maximum_minimum_nights                        155490 non-null  int64  \n",
      " 52  minimum_maximum_nights                        155490 non-null  int64  \n",
      " 53  maximum_maximum_nights                        155490 non-null  int64  \n",
      " 54  minimum_nights_avg_ntm                        155490 non-null  float64\n",
      " 55  maximum_nights_avg_ntm                        155490 non-null  float64\n",
      " 56  calendar_updated                              0 non-null       float64\n",
      " 57  has_availability                              153665 non-null  object \n",
      " 58  availability_30                               155490 non-null  int64  \n",
      " 59  availability_60                               155490 non-null  int64  \n",
      " 60  availability_90                               155490 non-null  int64  \n",
      " 61  availability_365                              155490 non-null  int64  \n",
      " 62  calendar_last_scraped                         155490 non-null  object \n",
      " 63  number_of_reviews                             155490 non-null  int64  \n",
      " 64  number_of_reviews_ltm                         155490 non-null  int64  \n",
      " 65  number_of_reviews_l30d                        155490 non-null  int64  \n",
      " 66  first_review                                  133590 non-null  object \n",
      " 67  last_review                                   133590 non-null  object \n",
      " 68  review_scores_rating                          133590 non-null  float64\n",
      " 69  review_scores_accuracy                        133590 non-null  float64\n",
      " 70  review_scores_cleanliness                     133590 non-null  float64\n",
      " 71  review_scores_checkin                         133590 non-null  float64\n",
      " 72  review_scores_communication                   133590 non-null  float64\n",
      " 73  review_scores_location                        133590 non-null  float64\n",
      " 74  review_scores_value                           133590 non-null  float64\n",
      " 75  license                                       0 non-null       float64\n",
      " 76  instant_bookable                              155490 non-null  object \n",
      " 77  calculated_host_listings_count                155490 non-null  int64  \n",
      " 78  calculated_host_listings_count_entire_homes   155490 non-null  int64  \n",
      " 79  calculated_host_listings_count_private_rooms  155490 non-null  int64  \n",
      " 80  calculated_host_listings_count_shared_rooms   155490 non-null  int64  \n",
      " 81  reviews_per_month                             133590 non-null  float64\n",
      "dtypes: float64(19), int64(26), object(37)\n",
      "memory usage: 97.3+ MB\n"
     ]
    }
   ],
   "source": [
    "mergedata.info()"
   ],
   "metadata": {
    "collapsed": false,
    "ExecuteTime": {
     "end_time": "2024-11-05T20:37:43.646106Z",
     "start_time": "2024-11-05T20:37:43.517541Z"
    }
   },
   "id": "c596a672b9c369d9"
  },
  {
   "cell_type": "code",
   "execution_count": 9,
   "outputs": [
    {
     "data": {
      "text/plain": "         listing_id  adjusted_price  minimum_nights_x  maximum_nights_x  \\\ncount  1.554900e+05             0.0     155490.000000     155490.000000   \nmean   6.048429e+17             NaN          6.202695        749.745578   \nstd    4.701078e+17             NaN         21.736957        424.313620   \nmin    2.992450e+06             NaN          1.000000          1.000000   \n25%    5.021123e+07             NaN          1.000000        365.000000   \n50%    7.545450e+17             NaN          2.000000       1125.000000   \n75%    1.014739e+18             NaN          3.000000       1125.000000   \nmax    1.237964e+18             NaN        365.000000       1125.000000   \n\n                 id     scrape_id       host_id  host_listings_count  \\\ncount  1.554900e+05  1.554900e+05  1.554900e+05        155490.000000   \nmean   6.048429e+17  2.024091e+13  2.226169e+08            23.424883   \nstd    4.701078e+17  0.000000e+00  1.846937e+08           141.748299   \nmin    2.992450e+06  2.024091e+13  6.490680e+05             1.000000   \n25%    5.021123e+07  2.024091e+13  4.762598e+07             2.000000   \n50%    7.545450e+17  2.024091e+13  1.855943e+08             4.000000   \n75%    1.014739e+18  2.024091e+13  3.829705e+08             9.000000   \nmax    1.237964e+18  2.024091e+13  5.808926e+08          1208.000000   \n\n       host_total_listings_count  neighbourhood_group_cleansed  ...  \\\ncount              155490.000000                           0.0  ...   \nmean                   40.791080                           NaN  ...   \nstd                   271.383632                           NaN  ...   \nmin                     1.000000                           NaN  ...   \n25%                     2.000000                           NaN  ...   \n50%                     5.000000                           NaN  ...   \n75%                    12.000000                           NaN  ...   \nmax                  2310.000000                           NaN  ...   \n\n       review_scores_checkin  review_scores_communication  \\\ncount          133590.000000                133590.000000   \nmean                4.859290                     4.871175   \nstd                 0.252152                     0.264232   \nmin                 3.000000                     3.000000   \n25%                 4.830000                     4.860000   \n50%                 4.940000                     4.950000   \n75%                 5.000000                     5.000000   \nmax                 5.000000                     5.000000   \n\n       review_scores_location  review_scores_value  license  \\\ncount           133590.000000        133590.000000      0.0   \nmean                 4.670656             4.729508      NaN   \nstd                  0.372055             0.311039      NaN   \nmin                  3.000000             3.000000      NaN   \n25%                  4.530000             4.670000      NaN   \n50%                  4.795000             4.800000      NaN   \n75%                  4.930000             4.930000      NaN   \nmax                  5.000000             5.000000      NaN   \n\n       calculated_host_listings_count  \\\ncount                   155490.000000   \nmean                         5.694836   \nstd                          6.235299   \nmin                          1.000000   \n25%                          1.000000   \n50%                          3.000000   \n75%                          8.000000   \nmax                         25.000000   \n\n       calculated_host_listings_count_entire_homes  \\\ncount                                155490.000000   \nmean                                      4.312207   \nstd                                       6.294715   \nmin                                       0.000000   \n25%                                       1.000000   \n50%                                       2.000000   \n75%                                       4.000000   \nmax                                      25.000000   \n\n       calculated_host_listings_count_private_rooms  \\\ncount                                 155490.000000   \nmean                                       1.377934   \nstd                                        2.770643   \nmin                                        0.000000   \n25%                                        0.000000   \n50%                                        0.000000   \n75%                                        1.000000   \nmax                                       11.000000   \n\n       calculated_host_listings_count_shared_rooms  reviews_per_month  \ncount                                155490.000000      133590.000000  \nmean                                      0.004695           2.145137  \nstd                                       0.068358           2.103765  \nmin                                       0.000000           0.030000  \n25%                                       0.000000           0.570000  \n50%                                       0.000000           1.450000  \n75%                                       0.000000           3.040000  \nmax                                       1.000000          11.220000  \n\n[8 rows x 45 columns]",
      "text/html": "<div>\n<style scoped>\n    .dataframe tbody tr th:only-of-type {\n        vertical-align: middle;\n    }\n\n    .dataframe tbody tr th {\n        vertical-align: top;\n    }\n\n    .dataframe thead th {\n        text-align: right;\n    }\n</style>\n<table border=\"1\" class=\"dataframe\">\n  <thead>\n    <tr style=\"text-align: right;\">\n      <th></th>\n      <th>listing_id</th>\n      <th>adjusted_price</th>\n      <th>minimum_nights_x</th>\n      <th>maximum_nights_x</th>\n      <th>id</th>\n      <th>scrape_id</th>\n      <th>host_id</th>\n      <th>host_listings_count</th>\n      <th>host_total_listings_count</th>\n      <th>neighbourhood_group_cleansed</th>\n      <th>...</th>\n      <th>review_scores_checkin</th>\n      <th>review_scores_communication</th>\n      <th>review_scores_location</th>\n      <th>review_scores_value</th>\n      <th>license</th>\n      <th>calculated_host_listings_count</th>\n      <th>calculated_host_listings_count_entire_homes</th>\n      <th>calculated_host_listings_count_private_rooms</th>\n      <th>calculated_host_listings_count_shared_rooms</th>\n      <th>reviews_per_month</th>\n    </tr>\n  </thead>\n  <tbody>\n    <tr>\n      <th>count</th>\n      <td>1.554900e+05</td>\n      <td>0.0</td>\n      <td>155490.000000</td>\n      <td>155490.000000</td>\n      <td>1.554900e+05</td>\n      <td>1.554900e+05</td>\n      <td>1.554900e+05</td>\n      <td>155490.000000</td>\n      <td>155490.000000</td>\n      <td>0.0</td>\n      <td>...</td>\n      <td>133590.000000</td>\n      <td>133590.000000</td>\n      <td>133590.000000</td>\n      <td>133590.000000</td>\n      <td>0.0</td>\n      <td>155490.000000</td>\n      <td>155490.000000</td>\n      <td>155490.000000</td>\n      <td>155490.000000</td>\n      <td>133590.000000</td>\n    </tr>\n    <tr>\n      <th>mean</th>\n      <td>6.048429e+17</td>\n      <td>NaN</td>\n      <td>6.202695</td>\n      <td>749.745578</td>\n      <td>6.048429e+17</td>\n      <td>2.024091e+13</td>\n      <td>2.226169e+08</td>\n      <td>23.424883</td>\n      <td>40.791080</td>\n      <td>NaN</td>\n      <td>...</td>\n      <td>4.859290</td>\n      <td>4.871175</td>\n      <td>4.670656</td>\n      <td>4.729508</td>\n      <td>NaN</td>\n      <td>5.694836</td>\n      <td>4.312207</td>\n      <td>1.377934</td>\n      <td>0.004695</td>\n      <td>2.145137</td>\n    </tr>\n    <tr>\n      <th>std</th>\n      <td>4.701078e+17</td>\n      <td>NaN</td>\n      <td>21.736957</td>\n      <td>424.313620</td>\n      <td>4.701078e+17</td>\n      <td>0.000000e+00</td>\n      <td>1.846937e+08</td>\n      <td>141.748299</td>\n      <td>271.383632</td>\n      <td>NaN</td>\n      <td>...</td>\n      <td>0.252152</td>\n      <td>0.264232</td>\n      <td>0.372055</td>\n      <td>0.311039</td>\n      <td>NaN</td>\n      <td>6.235299</td>\n      <td>6.294715</td>\n      <td>2.770643</td>\n      <td>0.068358</td>\n      <td>2.103765</td>\n    </tr>\n    <tr>\n      <th>min</th>\n      <td>2.992450e+06</td>\n      <td>NaN</td>\n      <td>1.000000</td>\n      <td>1.000000</td>\n      <td>2.992450e+06</td>\n      <td>2.024091e+13</td>\n      <td>6.490680e+05</td>\n      <td>1.000000</td>\n      <td>1.000000</td>\n      <td>NaN</td>\n      <td>...</td>\n      <td>3.000000</td>\n      <td>3.000000</td>\n      <td>3.000000</td>\n      <td>3.000000</td>\n      <td>NaN</td>\n      <td>1.000000</td>\n      <td>0.000000</td>\n      <td>0.000000</td>\n      <td>0.000000</td>\n      <td>0.030000</td>\n    </tr>\n    <tr>\n      <th>25%</th>\n      <td>5.021123e+07</td>\n      <td>NaN</td>\n      <td>1.000000</td>\n      <td>365.000000</td>\n      <td>5.021123e+07</td>\n      <td>2.024091e+13</td>\n      <td>4.762598e+07</td>\n      <td>2.000000</td>\n      <td>2.000000</td>\n      <td>NaN</td>\n      <td>...</td>\n      <td>4.830000</td>\n      <td>4.860000</td>\n      <td>4.530000</td>\n      <td>4.670000</td>\n      <td>NaN</td>\n      <td>1.000000</td>\n      <td>1.000000</td>\n      <td>0.000000</td>\n      <td>0.000000</td>\n      <td>0.570000</td>\n    </tr>\n    <tr>\n      <th>50%</th>\n      <td>7.545450e+17</td>\n      <td>NaN</td>\n      <td>2.000000</td>\n      <td>1125.000000</td>\n      <td>7.545450e+17</td>\n      <td>2.024091e+13</td>\n      <td>1.855943e+08</td>\n      <td>4.000000</td>\n      <td>5.000000</td>\n      <td>NaN</td>\n      <td>...</td>\n      <td>4.940000</td>\n      <td>4.950000</td>\n      <td>4.795000</td>\n      <td>4.800000</td>\n      <td>NaN</td>\n      <td>3.000000</td>\n      <td>2.000000</td>\n      <td>0.000000</td>\n      <td>0.000000</td>\n      <td>1.450000</td>\n    </tr>\n    <tr>\n      <th>75%</th>\n      <td>1.014739e+18</td>\n      <td>NaN</td>\n      <td>3.000000</td>\n      <td>1125.000000</td>\n      <td>1.014739e+18</td>\n      <td>2.024091e+13</td>\n      <td>3.829705e+08</td>\n      <td>9.000000</td>\n      <td>12.000000</td>\n      <td>NaN</td>\n      <td>...</td>\n      <td>5.000000</td>\n      <td>5.000000</td>\n      <td>4.930000</td>\n      <td>4.930000</td>\n      <td>NaN</td>\n      <td>8.000000</td>\n      <td>4.000000</td>\n      <td>1.000000</td>\n      <td>0.000000</td>\n      <td>3.040000</td>\n    </tr>\n    <tr>\n      <th>max</th>\n      <td>1.237964e+18</td>\n      <td>NaN</td>\n      <td>365.000000</td>\n      <td>1125.000000</td>\n      <td>1.237964e+18</td>\n      <td>2.024091e+13</td>\n      <td>5.808926e+08</td>\n      <td>1208.000000</td>\n      <td>2310.000000</td>\n      <td>NaN</td>\n      <td>...</td>\n      <td>5.000000</td>\n      <td>5.000000</td>\n      <td>5.000000</td>\n      <td>5.000000</td>\n      <td>NaN</td>\n      <td>25.000000</td>\n      <td>25.000000</td>\n      <td>11.000000</td>\n      <td>1.000000</td>\n      <td>11.220000</td>\n    </tr>\n  </tbody>\n</table>\n<p>8 rows × 45 columns</p>\n</div>"
     },
     "execution_count": 9,
     "metadata": {},
     "output_type": "execute_result"
    }
   ],
   "source": [
    "mergedata.describe()"
   ],
   "metadata": {
    "collapsed": false,
    "ExecuteTime": {
     "end_time": "2024-11-05T20:41:12.029974Z",
     "start_time": "2024-11-05T20:41:11.898216Z"
    }
   },
   "id": "fabd407bffeffc8e"
  },
  {
   "cell_type": "code",
   "execution_count": null,
   "outputs": [],
   "source": [],
   "metadata": {
    "collapsed": false
   },
   "id": "e9743ca1fed59332"
  }
 ],
 "metadata": {
  "kernelspec": {
   "display_name": "Python 3",
   "language": "python",
   "name": "python3"
  },
  "language_info": {
   "codemirror_mode": {
    "name": "ipython",
    "version": 2
   },
   "file_extension": ".py",
   "mimetype": "text/x-python",
   "name": "python",
   "nbconvert_exporter": "python",
   "pygments_lexer": "ipython2",
   "version": "2.7.6"
  }
 },
 "nbformat": 4,
 "nbformat_minor": 5
}
